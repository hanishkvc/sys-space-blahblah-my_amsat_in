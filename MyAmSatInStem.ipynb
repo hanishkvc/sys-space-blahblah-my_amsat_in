{
 "cells": [
  {
   "cell_type": "markdown",
   "metadata": {},
   "source": [
    "# AmSat to kindle STEM in India"
   ]
  },
  {
   "cell_type": "markdown",
   "metadata": {},
   "source": [
    "## Overview\n",
    "\n",
    "We need a LEO Polar Sun Sync orbit AmSat with FM repeater and few sensors data monitor.\n",
    "Which inturn can be tracked and listened to by students at heart by using either a suitable FM receiver\n",
    "or better still a SDR reciever.\n"
   ]
  },
  {
   "cell_type": "markdown",
   "metadata": {},
   "source": [
    "## a NOTE\n",
    "\n",
    "These are some initial thoughts in general, need to think/check\n",
    "\n",
    "Below are few simple minded calculations to get a very very rough initial idea of few things. It is more simple geometry based and far removed from actual orbital characteristics. But still ...\n",
    "\n",
    "Also I have nevered looked into satelite orbits and its implications before, on top these are my initial thoughts, that too with simple minded modeling, so take these with a big pinch of salt ;-)"
   ]
  },
  {
   "cell_type": "code",
   "execution_count": 84,
   "metadata": {},
   "outputs": [],
   "source": [
    "import math\n",
    "import numpy\n",
    "import matplotlib.pyplot as plt"
   ]
  },
  {
   "cell_type": "markdown",
   "metadata": {},
   "source": [
    "## Earth"
   ]
  },
  {
   "cell_type": "code",
   "execution_count": 85,
   "metadata": {},
   "outputs": [
    {
     "name": "stdout",
     "output_type": "stream",
     "text": [
      "EarthCircumference: 40212385.96594935\n"
     ]
    }
   ],
   "source": [
    "# Gravitational Constant (m^3 / (kg * s^2))\n",
    "iGravitationalConstant = (6.674 / 10**11)\n",
    "\n",
    "# Earth Radius (m)\n",
    "iEarthRadius = 6_400_000\n",
    "\n",
    "# Earth Mass (kg)\n",
    "iEarthMass = 5.972 * 10**24\n",
    "\n",
    "# Earth Circumference\n",
    "iEarthCircumference = 2 * math.pi * iEarthRadius\n",
    "print(\"EarthCircumference:\", iEarthCircumference)\n"
   ]
  },
  {
   "cell_type": "markdown",
   "metadata": {},
   "source": [
    "## Orbit\n",
    "\n",
    "The Polar orbit should allow the satellite to cover most parts of the earth.\n",
    "\n",
    "If a orbit altitude is reached such that the velocity achieved can ensure that N (1 or more) full orbits can be finished in time T, such that T is 24 hours or its multiples, then the satellite will retrace the same path at the same relative time once every T hours i.e T/24 days. NOTE: Not sure if the LEO orbits is sufficiently stable enough over a long period of atleast few weeks, so that it can be used to have a simple tracking wrt the satellite for that period.\n",
    "\n",
    "If a sun synchronous orbit is achived or maintained, then depending on the angle wrt earth-sun orbital plane,\n",
    "\n",
    "* if it is 90 degrees, then the satellite could be placed always in day light, so that solar power is always available. However one needs to verify if the temperature of the satellite parts can be maintained well within reasonable operating range, in this case. Is the attitude maintaining rotation good enough or not or conductive heat distribution pipes/paths good enough or ...\n",
    "\n",
    "* if it is 0 degrees, then the satellite would be always at around roughly mid day or mid night wrt the places on earth, depending on which side of the earth wrt sun, that place is.\n",
    "\n",
    "The satellite may pass over a given ground location between 0 to 2 times under normal conditions for a polar sun synchronous orbit. Ideally this would be twice if the satellite (and its RF system) covers all parts of the earth fully in a day.\n"
   ]
  },
  {
   "cell_type": "markdown",
   "metadata": {},
   "source": [
    "## LEO"
   ]
  },
  {
   "cell_type": "code",
   "execution_count": 86,
   "metadata": {},
   "outputs": [
    {
     "name": "stdout",
     "output_type": "stream",
     "text": [
      "LEO orbit altitude wrt Earth Center: 6900000\n",
      "LEO Velocity: 7600.260102337841\n",
      "LeoCircumference: 43353978.61953914\n",
      "LeoOrbitTimeTaken(mins): 95.0712607984812\n",
      "NumOfSiteings in a Day: 15.146533115326104\n"
     ]
    },
    {
     "data": {
      "text/plain": [
       "103.36593937566968"
      ]
     },
     "execution_count": 86,
     "metadata": {},
     "output_type": "execute_result"
    }
   ],
   "source": [
    "## LowEarthOrbit\n",
    "\n",
    "iLeoAltitudeAboveGround = 500_000\n",
    "iLeoAltitudeFromEarthCenter = iEarthRadius + iLeoAltitudeAboveGround\n",
    "print(\"LEO orbit altitude wrt Earth Center:\", iLeoAltitudeFromEarthCenter)\n",
    "\n",
    "# LEO Velocity\n",
    "#F = (GMm)/(r^2) = ma = m(v^2/r) => GM = r(v^2)\n",
    "iLeoVelocity = math.sqrt((iGravitationalConstant * iEarthMass)/iLeoAltitudeFromEarthCenter)\n",
    "print(\"LEO Velocity:\", iLeoVelocity)\n",
    "\n",
    "# Circumference of the orbit\n",
    "iLeoCircumference = 2 * math.pi * iLeoAltitudeFromEarthCenter\n",
    "print(\"LeoCircumference:\", iLeoCircumference)\n",
    "\n",
    "# Time taken for a single orbit\n",
    "iLeoOrbitTimeTaken = iLeoCircumference/iLeoVelocity\n",
    "print(\"LeoOrbitTimeTaken(mins):\", iLeoOrbitTimeTaken/60)\n",
    "\n",
    "# Num of Siteings in a day\n",
    "iDayInSecs = 24*60*60\n",
    "iNumOfSiteingsInADay = iDayInSecs/iLeoOrbitTimeTaken\n",
    "print(\"NumOfSiteings in a Day:\", iNumOfSiteingsInADay)\n",
    "iDayInSecs/(iDayInSecs%iLeoOrbitTimeTaken)\n",
    "#0.146*103\n"
   ]
  },
  {
   "cell_type": "code",
   "execution_count": 87,
   "metadata": {},
   "outputs": [
    {
     "data": {
      "image/png": "[encoded data removed]",
      "text/plain": [
       "<Figure size 432x288 with 1 Axes>"
      ]
     },
     "metadata": {
      "needs_background": "light"
     },
     "output_type": "display_data"
    }
   ],
   "source": [
    "## Orbital Velocities\n",
    "\n",
    "iAltitudesAboveGround = numpy.linspace(0,10_000_000, 20)\n",
    "iAltitudesAboveGround = numpy.arange(0,35_500_000, 500_000)\n",
    "def orbitvelocity_from_altitude(altitudeFromCenter, theMainMass=iEarthMass):\n",
    "    return numpy.sqrt((iGravitationalConstant*theMainMass)/altitudeFromCenter)\n",
    "\n",
    "def orbittime_from_altitude(altitudeFromCenter, theMainMass=iEarthMass):\n",
    "    orbVel = orbitvelocity_from_altitude(altitudeFromCenter, theMainMass)\n",
    "    orbCirumference = 2 * math.pi * altitudeFromCenter\n",
    "    return orbCirumference/orbVel\n",
    "\n",
    "iOrbitVelocities = orbitvelocity_from_altitude(iAltitudesAboveGround+iEarthRadius)\n",
    "iOrbitTimes = orbittime_from_altitude(iAltitudesAboveGround+iEarthRadius)\n",
    "plt.plot(iAltitudesAboveGround/1000, iOrbitVelocities, \"+-\")\n",
    "#plt.plot(iAltitudesAboveGround/1000, iOrbitTimes, \"+-r\")\n",
    "plt.xlabel(\"AltAboveGnd[Km]\")\n",
    "plt.ylabel(\"OrbitVelocities[m/s]\")\n",
    "plt.show()\n"
   ]
  },
  {
   "cell_type": "markdown",
   "metadata": {},
   "source": [
    "## Earth coverage"
   ]
  },
  {
   "cell_type": "code",
   "execution_count": 88,
   "metadata": {},
   "outputs": [
    {
     "name": "stdout",
     "output_type": "stream",
     "text": [
      "EarthCoverageRadius[@60]:[  115470.05383793   288675.13459481   577350.26918963 20784609.69082653]\n",
      "EarthCircumferenceAtEquator CoveredPerOrbit: [  461880.2153517   1154700.53837925  2309401.0767585  83138438.76330611]\n",
      "Minimum number of orbits required to cover earths equatorial circumference fully: [87.06236948 34.82494779 17.4124739   0.48367983]\n",
      "EarthMovementPerSecAtEquatorDueToRotation: 465.4211338651545\n",
      "EarthMovementPerOrbitAtEquatorDueToRotation: 2654890.439929136\n"
     ]
    },
    {
     "data": {
      "text/plain": [
       "array([  17.39733619,   43.49334048,   86.98668096, 3131.52051448])"
      ]
     },
     "execution_count": 88,
     "metadata": {},
     "output_type": "execute_result"
    }
   ],
   "source": [
    "# Earth Coverage and Altitude\n",
    "\n",
    "# Sin(Angle) = OppositeSide/Hypotinus\n",
    "# Cos(Angle) = AdjacentSide/Hypotinus\n",
    "# Tan(Angle) = Opposite/Adjacent\n",
    "# Opposite = Tan(Angle) * Adjacent\n",
    "# AdjacentSide = Altitude from surface\n",
    "# Angle = FieldOfView\n",
    "iSatAltitude = numpy.array([200_000, 500_000, 1_000_000, 36_000_000])\n",
    "iFieldOfView = 106 # Adjusted to sync NumOfSiteings/day with EarthEquatorialCircumferenceCoverage from 500KM\n",
    "iFieldOfView = 60\n",
    "iEarthCoverageRadius = numpy.tan(((iFieldOfView/2)/360)*math.pi*2)*iSatAltitude\n",
    "print(\"EarthCoverageRadius[@{}]:{}\".format(iFieldOfView, iEarthCoverageRadius))\n",
    "math.atan(iEarthRadius/(iEarthRadius+36_000_000)) * (360/(math.pi*2))\n",
    "math.atan(iEarthRadius/(iEarthRadius+500_000)) * (360/(math.pi*2))\n",
    "\n",
    "# Minimum number of orbits to cover the earths equatorial circumference\n",
    "iEarthCircumferenceAtEquatorCoveredPerOrbit = iEarthCoverageRadius*2*2\n",
    "print(\"EarthCircumferenceAtEquator CoveredPerOrbit:\", iEarthCircumferenceAtEquatorCoveredPerOrbit)\n",
    "iMinNumOfOrbits4Equator=iEarthCircumference/iEarthCircumferenceAtEquatorCoveredPerOrbit\n",
    "print(\"Minimum number of orbits required to cover earths equatorial circumference fully:\", iMinNumOfOrbits4Equator)\n",
    "\n",
    "# Movement of earth in a given time\n",
    "iEarthMovementPerSecAtEquatorDueToRotation = iEarthCircumference/iDayInSecs\n",
    "print(\"EarthMovementPerSecAtEquatorDueToRotation:\", iEarthMovementPerSecAtEquatorDueToRotation)\n",
    "iEarthMovementPerOrbitAtEquatorDueToRotation = iLeoOrbitTimeTaken * iEarthMovementPerSecAtEquatorDueToRotation\n",
    "print(\"EarthMovementPerOrbitAtEquatorDueToRotation:\", iEarthMovementPerOrbitAtEquatorDueToRotation)\n",
    "\n",
    "# Percent of required area covered per orbit\n",
    "(iEarthCircumferenceAtEquatorCoveredPerOrbit/iEarthMovementPerOrbitAtEquatorDueToRotation)*100"
   ]
  },
  {
   "cell_type": "code",
   "execution_count": 134,
   "metadata": {},
   "outputs": [
    {
     "name": "stdout",
     "output_type": "stream",
     "text": [
      "EarthCircumferencePerDegree: 111701.07212763708\n",
      "EarthMovementPerOrbitAtEquatorInDegrees[500000]:23.7678\n",
      "179 179 1 1\n",
      "{0, 260, 5, 133, 266, 11, 138, 272, 145, 16, 150, 278, 22, 283, 28, 156, 161, 290, 34, 295, 168, 40, 173, 301, 45, 179, 52, 307, 313, 57, 185, 190, 319, 63, 324, 197, 68, 202, 75, 330, 336, 80, 208, 342, 86, 214, 347, 220, 92, 353, 98, 226, 249, 231, 104, 359, 109, 237, 243, 115, 121, 254, 127}\n",
      "[0, 168, 336, 145, 313, 121, 290, 98, 266, 75, 243, 52, 220, 28, 197, 5, 173, 342, 150, 319, 127, 295, 104, 272, 80, 249, 57, 226, 34, 202, 11, 179, 347, 156, 324, 133, 301, 109, 278, 86, 254, 63, 231, 40, 208, 16, 185, 353, 161, 330, 138, 307, 115, 283, 92, 260, 68, 237, 45, 214, 22, 190, 359]\n",
      "Orbit: alt [400000] time [5580] FOVCvrgRadiusDegs [2.06748] cvrage% [72.3619] with [30] uniqOrbits\n",
      "{0, 3, 7, 11, 14, 18, 22, 27, 30, 34, 38, 41, 45, 50, 54, 58, 61, 65, 69, 74, 77, 81, 85, 88, 92, 97, 101, 105, 108, 112, 116, 121, 124, 128, 132, 135, 139, 144, 148, 152, 155, 159, 163, 168, 171, 175, 179, 182, 186, 190, 195, 199, 202, 206, 210, 213, 218, 222, 226, 229, 233, 237, 242, 246, 249, 253, 257, 260, 265, 269, 273, 276, 280, 284, 289, 293, 296, 300, 304, 307, 312, 316, 320, 324, 327, 331, 336, 340, 343, 347, 351, 354, 358}\n",
      "[0, 168, 336, 144, 312, 121, 289, 97, 265, 74, 242, 50, 218, 27, 195, 3, 171, 340, 148, 316, 124, 293, 101, 269, 77, 246, 54, 222, 30, 199, 7, 175, 343, 152, 320, 128, 296, 105, 273, 81, 249, 58, 226, 34, 202, 11, 179, 347, 155, 324, 132, 300, 108, 276, 85, 253, 61, 229, 38, 206, 14, 182, 351, 159, 327, 135, 304, 112, 280, 88, 257, 65, 233, 41, 210, 18, 186, 354, 163, 331, 139, 307, 116, 284, 92, 260, 69, 237, 45, 213, 22, 190, 358]\n",
      "Orbit: alt [450000] time [5642] FOVCvrgRadiusDegs [2.32592] cvrage% [120.172] with [45] uniqOrbits\n",
      "{0, 288, 96, 193, 1, 168, 264, 73, 336, 144, 241, 49, 312, 217, 120, 25}\n",
      "[0, 168, 336, 144, 312, 120, 288, 96, 264, 73, 241, 49, 217, 25, 193, 1]\n",
      "Orbit: alt [500000] time [5704] FOVCvrgRadiusDegs [2.58435] cvrage% [22.972] with [7] uniqOrbits\n",
      "{0, 191, 167, 263, 71, 359, 143, 335, 239, 47, 119, 23, 311, 215, 95, 287}\n",
      "[0, 167, 335, 143, 311, 119, 287, 95, 263, 71, 239, 47, 215, 23, 191, 359]\n",
      "Orbit: alt [550000] time [5766] FOVCvrgRadiusDegs [2.84279] cvrage% [25.2692] with [7] uniqOrbits\n",
      "{0, 357, 262, 167, 70, 238, 143, 335, 46, 119, 214, 311, 22, 189, 94, 287}\n",
      "[0, 167, 335, 143, 311, 119, 287, 94, 262, 70, 238, 46, 214, 22, 189, 357]\n",
      "Orbit: alt [600000] time [5828] FOVCvrgRadiusDegs [3.10123] cvrage% [27.5664] with [7] uniqOrbits\n",
      "{0, 4, 8, 12, 16, 20, 24, 28, 32, 36, 40, 44, 49, 53, 57, 61, 65, 69, 73, 77, 81, 85, 89, 94, 98, 102, 106, 110, 114, 118, 122, 126, 130, 134, 139, 143, 147, 151, 155, 159, 163, 167, 171, 175, 179, 184, 188, 192, 196, 200, 204, 208, 212, 216, 220, 224, 229, 233, 237, 241, 245, 249, 253, 257, 261, 265, 269, 274, 278, 282, 286, 290, 294, 298, 302, 306, 310, 314, 319, 323, 327, 331, 335, 339, 343, 347, 351, 355, 359}\n",
      "[0, 167, 335, 143, 310, 118, 286, 94, 261, 69, 237, 44, 212, 20, 188, 355, 163, 331, 139, 306, 114, 282, 89, 257, 65, 233, 40, 208, 16, 184, 351, 159, 327, 134, 302, 110, 278, 85, 253, 61, 229, 36, 204, 12, 179, 347, 155, 323, 130, 298, 106, 274, 81, 249, 57, 224, 32, 200, 8, 175, 343, 151, 319, 126, 294, 102, 269, 77, 245, 53, 220, 28, 196, 4, 171, 339, 147, 314, 122, 290, 98, 265, 73, 241, 49, 216, 24, 192, 359]\n",
      "Orbit: alt [650000] time [5891] FOVCvrgRadiusDegs [3.35966] cvrage% [166.117] with [43] uniqOrbits\n",
      "{0, 130, 260, 6, 136, 267, 12, 142, 273, 18, 149, 279, 25, 155, 285, 31, 161, 292, 37, 167, 298, 43, 174, 304, 50, 180, 310, 56, 186, 316, 62, 192, 323, 68, 199, 329, 74, 205, 335, 81, 211, 341, 87, 217, 347, 93, 223, 353, 99, 229, 105, 235, 111, 242, 117, 248, 124, 254}\n",
      "[0, 167, 335, 142, 310, 117, 285, 93, 260, 68, 235, 43, 211, 18, 186, 353, 161, 329, 136, 304, 111, 279, 87, 254, 62, 229, 37, 205, 12, 180, 347, 155, 323, 130, 298, 105, 273, 81, 248, 56, 223, 31, 199, 6, 174, 341, 149, 316, 124, 292, 99, 267, 74, 242, 50, 217, 25, 192, 0]\n",
      "Orbit: alt [700000] time [5954] FOVCvrgRadiusDegs [3.6181] cvrage% [116.583] with [28] uniqOrbits\n",
      "{0, 259, 134, 9, 268, 142, 17, 276, 151, 26, 284, 159, 34, 293, 167, 42, 301, 176, 51, 309, 184, 59, 318, 193, 67, 326, 201, 76, 334, 209, 84, 343, 218, 92, 351, 226, 101, 234, 109, 243, 117, 251, 126}\n",
      "[0, 167, 334, 142, 309, 117, 284, 92, 259, 67, 234, 42, 209, 17, 184, 351, 159, 326, 134, 301, 109, 276, 84, 251, 59, 226, 34, 201, 9, 176, 343, 151, 318, 126, 293, 101, 268, 76, 243, 51, 218, 26, 193, 0]\n",
      "Orbit: alt [750000] time [6017] FOVCvrgRadiusDegs [3.87653] cvrage% [92.606] with [21] uniqOrbits\n",
      "{0, 258, 131, 5, 263, 137, 10, 141, 269, 15, 273, 147, 20, 279, 152, 25, 283, 157, 30, 289, 162, 35, 294, 167, 40, 299, 172, 45, 304, 177, 51, 309, 182, 55, 314, 187, 61, 319, 65, 193, 324, 197, 71, 329, 203, 76, 334, 207, 81, 339, 213, 86, 345, 218, 91, 349, 223, 96, 355, 228, 101, 233, 106, 238, 111, 243, 116, 248, 121, 253, 127}\n",
      "[0, 167, 334, 141, 309, 116, 283, 91, 258, 65, 233, 40, 207, 15, 182, 349, 157, 324, 131, 299, 106, 273, 81, 248, 55, 223, 30, 197, 5, 172, 339, 147, 314, 121, 289, 96, 263, 71, 238, 45, 213, 20, 187, 355, 162, 329, 137, 304, 111, 279, 86, 253, 61, 228, 35, 203, 10, 177, 345, 152, 319, 127, 294, 101, 269, 76, 243, 51, 218, 25, 193, 0]\n",
      "Orbit: alt [800000] time [6080] FOVCvrgRadiusDegs [4.13497] cvrage% [163.101] with [35] uniqOrbits\n",
      "{0, 257, 129, 1, 141, 13, 271, 155, 283, 27, 167, 39, 296, 308, 180, 52, 64, 322, 194, 334, 206, 78, 90, 348, 220, 232, 104, 116, 245}\n",
      "[0, 167, 334, 141, 308, 116, 283, 90, 257, 64, 232, 39, 206, 13, 180, 348, 155, 322, 129, 296, 104, 271, 78, 245, 52, 220, 27, 194, 1]\n",
      "Orbit: alt [850000] time [6143] FOVCvrgRadiusDegs [4.3934] cvrage% [70.7826] with [13] uniqOrbits\n",
      "{0, 256, 11, 268, 141, 23, 153, 282, 37, 294, 167, 49, 178, 308, 190, 63, 320, 75, 204, 334, 216, 89, 346, 101, 230, 357, 242, 115, 127}\n",
      "[0, 167, 334, 141, 308, 115, 282, 89, 256, 63, 230, 37, 204, 11, 178, 346, 153, 320, 127, 294, 101, 268, 75, 242, 49, 216, 23, 190, 357]\n",
      "Orbit: alt [900000] time [6207] FOVCvrgRadiusDegs [4.65184] cvrage% [74.9463] with [13] uniqOrbits\n",
      "{0, 4, 134, 265, 10, 140, 275, 20, 150, 281, 30, 161, 291, 36, 166, 301, 46, 177, 307, 56, 187, 317, 62, 197, 72, 328, 203, 333, 82, 213, 344, 88, 223, 98, 354, 229, 108, 239, 114, 249, 124, 255}\n",
      "[0, 166, 333, 140, 307, 114, 281, 88, 255, 62, 229, 36, 203, 10, 177, 344, 150, 317, 124, 291, 98, 265, 72, 239, 46, 213, 20, 187, 354, 161, 328, 134, 301, 108, 275, 82, 249, 56, 223, 30, 197, 4]\n",
      "Orbit: alt [950000] time [6271] FOVCvrgRadiusDegs [4.91027] cvrage% [114.573] with [20] uniqOrbits\n",
      "{0, 130, 262, 8, 140, 271, 16, 148, 280, 25, 157, 289, 34, 166, 297, 43, 175, 307, 51, 183, 315, 61, 192, 324, 69, 201, 333, 78, 210, 342, 87, 218, 350, 96, 228, 358, 104, 236, 114, 244, 122, 254}\n",
      "[0, 166, 333, 140, 307, 114, 280, 87, 254, 61, 228, 34, 201, 8, 175, 342, 148, 315, 122, 289, 96, 262, 69, 236, 43, 210, 16, 183, 350, 157, 324, 130, 297, 104, 271, 78, 244, 51, 218, 25, 192, 358]\n",
      "Orbit: alt [1000000] time [6335] FOVCvrgRadiusDegs [5.16871] cvrage% [120.603] with [20] uniqOrbits\n",
      "{0, 260, 133, 6, 266, 140, 13, 273, 146, 20, 280, 153, 26, 286, 160, 33, 293, 166, 40, 300, 173, 46, 306, 180, 53, 313, 186, 60, 320, 193, 66, 326, 200, 73, 333, 206, 80, 340, 213, 86, 346, 220, 93, 353, 226, 100, 233, 106, 240, 113, 246, 120, 253, 126}\n",
      "[0, 166, 333, 140, 306, 113, 280, 86, 253, 60, 226, 33, 200, 6, 173, 340, 146, 313, 120, 286, 93, 260, 66, 233, 40, 206, 13, 180, 346, 153, 320, 126, 293, 100, 266, 73, 240, 46, 213, 20, 186, 353, 160, 326, 133, 300, 106, 273, 80, 246, 53, 220, 26, 193, 0]\n",
      "Orbit: alt [1050000] time [6399] FOVCvrgRadiusDegs [5.42714] cvrage% [162.814] with [26] uniqOrbits\n",
      "{0, 225, 4, 166, 198, 139, 333, 112, 306, 85, 279, 58, 252, 31}\n",
      "[0, 166, 333, 139, 306, 112, 279, 85, 252, 58, 225, 31, 198, 4]\n",
      "Orbit: alt [1100000] time [6464] FOVCvrgRadiusDegs [5.68558] cvrage% [44.2212] with [6] uniqOrbits\n",
      "{0, 3, 196, 166, 139, 332, 111, 305, 84, 278, 57, 251, 30, 223}\n",
      "[0, 166, 332, 139, 305, 111, 278, 84, 251, 57, 223, 30, 196, 3]\n",
      "Orbit: alt [1150000] time [6529] FOVCvrgRadiusDegs [5.94401] cvrage% [46.2312] with [6] uniqOrbits\n",
      "{0, 1, 195, 166, 138, 332, 111, 305, 83, 277, 56, 250, 28, 222}\n",
      "[0, 166, 332, 138, 305, 111, 277, 83, 250, 56, 222, 28, 195, 1]\n",
      "Orbit: alt [1200000] time [6593] FOVCvrgRadiusDegs [6.20245] cvrage% [48.2413] with [6] uniqOrbits\n",
      "{0, 193, 166, 359, 138, 332, 110, 304, 82, 276, 55, 249, 27, 221}\n",
      "[0, 166, 332, 138, 304, 110, 276, 82, 249, 55, 221, 27, 193, 359]\n",
      "Orbit: alt [1250000] time [6659] FOVCvrgRadiusDegs [6.46089] cvrage% [50.2513] with [6] uniqOrbits\n",
      "{0, 165, 357, 137, 331, 109, 303, 81, 275, 53, 247, 25, 219, 191}\n",
      "[0, 165, 331, 137, 303, 109, 275, 81, 247, 53, 219, 25, 191, 357]\n",
      "Orbit: alt [1300000] time [6724] FOVCvrgRadiusDegs [6.71932] cvrage% [52.2614] with [6] uniqOrbits\n",
      "{0, 356, 165, 137, 331, 109, 303, 80, 275, 52, 246, 24, 218, 190}\n",
      "[0, 165, 331, 137, 303, 109, 275, 80, 246, 52, 218, 24, 190, 356]\n",
      "Orbit: alt [1350000] time [6790] FOVCvrgRadiusDegs [6.97776] cvrage% [54.2714] with [6] uniqOrbits\n",
      "{0, 354, 165, 137, 331, 108, 302, 80, 274, 51, 245, 22, 217, 188}\n",
      "[0, 165, 331, 137, 302, 108, 274, 80, 245, 51, 217, 22, 188, 354]\n",
      "Orbit: alt [1400000] time [6855] FOVCvrgRadiusDegs [7.23619] cvrage% [56.2815] with [6] uniqOrbits\n",
      "{0, 352, 165, 136, 331, 107, 302, 79, 273, 50, 244, 21, 215, 186}\n",
      "[0, 165, 331, 136, 302, 107, 273, 79, 244, 50, 215, 21, 186, 352]\n",
      "Orbit: alt [1450000] time [6921] FOVCvrgRadiusDegs [7.49463] cvrage% [58.2915] with [6] uniqOrbits\n",
      "{0, 1, 263, 136, 10, 272, 146, 19, 283, 156, 30, 292, 165, 39, 301, 48, 176, 312, 185, 59, 321, 195, 68, 330, 205, 78, 341, 214, 88, 350, 97, 225, 234, 107, 243, 117, 254, 127}\n",
      "[0, 165, 330, 136, 301, 107, 272, 78, 243, 48, 214, 19, 185, 350, 156, 321, 127, 292, 97, 263, 68, 234, 39, 205, 10, 176, 341, 146, 312, 117, 283, 88, 254, 59, 225, 30, 195, 1]\n",
      "Orbit: alt [1500000] time [6988] FOVCvrgRadiusDegs [7.75306] cvrage% [163.676] with [18] uniqOrbits\n",
      "{0, 260, 135, 7, 271, 18, 154, 290, 36, 165, 301, 47, 183, 319, 66, 201, 330, 77, 213, 348, 95, 231, 106, 242, 124}\n",
      "[0, 165, 330, 135, 301, 106, 271, 77, 242, 47, 213, 18, 183, 348, 154, 319, 124, 290, 95, 260, 66, 231, 36, 201, 7]\n",
      "Orbit: alt [1550000] time [7054] FOVCvrgRadiusDegs [8.0115] cvrage% [111.271] with [11] uniqOrbits\n",
      "{0, 258, 3, 135, 270, 16, 152, 287, 33, 165, 300, 46, 181, 317, 63, 198, 330, 76, 211, 347, 92, 228, 105, 241, 122}\n",
      "[0, 165, 330, 135, 300, 105, 270, 76, 241, 46, 211, 16, 181, 347, 152, 317, 122, 287, 92, 258, 63, 228, 33, 198, 3]\n",
      "Orbit: alt [1600000] time [7121] FOVCvrgRadiusDegs [8.26993] cvrage% [114.86] with [11] uniqOrbits\n",
      "{0, 135, 270, 15, 150, 285, 30, 165, 300, 45, 180, 315, 60, 195, 330, 75, 210, 345, 90, 225, 105, 240, 120, 255}\n",
      "[0, 165, 330, 135, 300, 105, 270, 75, 240, 45, 210, 15, 180, 345, 150, 315, 120, 285, 90, 255, 60, 225, 30, 195, 0]\n",
      "Orbit: alt [1650000] time [7188] FOVCvrgRadiusDegs [8.52837] cvrage% [113.712] with [11] uniqOrbits\n",
      "{0, 134, 269, 13, 148, 283, 27, 164, 299, 43, 178, 313, 57, 192, 329, 74, 208, 343, 87, 222, 357, 104, 239, 118, 252}\n",
      "[0, 164, 329, 134, 299, 104, 269, 74, 239, 43, 208, 13, 178, 343, 148, 313, 118, 283, 87, 252, 57, 222, 27, 192, 357]\n",
      "Orbit: alt [1700000] time [7255] FOVCvrgRadiusDegs [8.7868] cvrage% [122.039] with [11] uniqOrbits\n",
      "{0, 134, 268, 12, 146, 280, 24, 164, 298, 42, 176, 54, 311, 189, 329, 73, 207, 341, 85, 219, 353, 103, 237, 115, 250}\n",
      "[0, 164, 329, 134, 298, 103, 268, 73, 237, 42, 207, 12, 176, 341, 146, 311, 115, 280, 85, 250, 54, 219, 24, 189, 353]\n",
      "Orbit: alt [1750000] time [7322] FOVCvrgRadiusDegs [9.04524] cvrage% [125.628] with [11] uniqOrbits\n",
      "{0, 1, 258, 133, 10, 267, 144, 21, 278, 155, 31, 288, 164, 41, 298, 175, 52, 309, 185, 62, 319, 196, 72, 329, 206, 82, 339, 216, 93, 350, 227, 103, 236, 113, 247, 124}\n",
      "[0, 164, 329, 133, 298, 103, 267, 72, 236, 41, 206, 10, 175, 339, 144, 309, 113, 278, 82, 247, 52, 216, 21, 185, 350, 155, 319, 124, 288, 93, 258, 62, 227, 31, 196, 1]\n",
      "Orbit: alt [1800000] time [7390] FOVCvrgRadiusDegs [9.30368] cvrage% [186.074] with [17] uniqOrbits\n",
      "{0, 164, 133, 102, 71, 328, 297, 266, 235, 40, 204, 9}\n",
      "[0, 164, 328, 133, 297, 102, 266, 71, 235, 40, 204, 9]\n",
      "Orbit: alt [1850000] time [7457] FOVCvrgRadiusDegs [9.56211] cvrage% [63.7474] with [5] uniqOrbits\n",
      "{0, 132, 164, 101, 70, 328, 297, 265, 234, 38, 203, 7}\n",
      "[0, 164, 328, 132, 297, 101, 265, 70, 234, 38, 203, 7]\n",
      "Orbit: alt [1900000] time [7525] FOVCvrgRadiusDegs [9.82055] cvrage% [65.4703] with [5] uniqOrbits\n",
      "{0, 132, 164, 100, 69, 296, 328, 265, 233, 37, 201, 5}\n",
      "[0, 164, 328, 132, 296, 100, 265, 69, 233, 37, 201, 5]\n",
      "Orbit: alt [1950000] time [7593] FOVCvrgRadiusDegs [10.079] cvrage% [67.1932] with [5] uniqOrbits\n"
     ]
    },
    {
     "data": {
      "image/png": "[encoded data removed]",
      "text/plain": [
       "<Figure size 960x480 with 2 Axes>"
      ]
     },
     "metadata": {
      "needs_background": "light"
     },
     "output_type": "display_data"
    },
    {
     "data": {
      "text/plain": [
       "'0b1000000'"
      ]
     },
     "execution_count": 134,
     "metadata": {},
     "output_type": "execute_result"
    }
   ],
   "source": [
    "# Earth Equatorial Circumference covered across orbits\n",
    "\n",
    "\n",
    "bCoverageGraphics = False\n",
    "\n",
    "\n",
    "# Offsetting the base to a multiple of 360 instead of 0\n",
    "# could simplify the calc by needing only mod, but going for simple straight interpretation \n",
    "def sane_pos(inPos):\n",
    "    inPos = (inPos % 360)\n",
    "    if inPos < 0:\n",
    "        inPos = 360 + inPos\n",
    "    return inPos\n",
    "\n",
    "\n",
    "def test_sane_pos():\n",
    "    for i in range(-520,520):\n",
    "        print(i, sane_pos(i))\n",
    "\n",
    "\n",
    "def dprint(msg, bDebug=False):\n",
    "    if bDebug:\n",
    "        print(msg)\n",
    "\n",
    "\n",
    "iEarthCircumferencePerDegree = iEarthCircumference/360\n",
    "print(\"EarthCircumferencePerDegree:\", iEarthCircumferencePerDegree)\n",
    "iEarthMovementPerOrbitAtEquatorInDegrees = iEarthMovementPerOrbitAtEquatorDueToRotation/iEarthCircumferencePerDegree\n",
    "print(\"EarthMovementPerOrbitAtEquatorInDegrees[%d]:%g\"%(iLeoAltitudeAboveGround, iEarthMovementPerOrbitAtEquatorInDegrees))\n",
    "\n",
    "\n",
    "'''\n",
    "def in_coverageradius(inPos, coverageRadiusInDegs):\n",
    "    startPos = sane_pos(inPos-coverageRadiusInDegs)\n",
    "    endPos = sane_pos(inPos+coverageRadiusInDegs)\n",
    "    ...\n",
    "'''\n",
    "def circular_diff(pos1, pos2):\n",
    "    '''\n",
    "    pos1 and pos2 need to be +ve and within circular range\n",
    "    '''\n",
    "    delta = pos1 - pos2\n",
    "    if delta > 180:\n",
    "        delta = delta - 360\n",
    "    if delta < -180:\n",
    "        delta = 360 + delta\n",
    "    return delta\n",
    "\n",
    "\n",
    "def circular_absdiff(pos1, pos2):\n",
    "    '''\n",
    "    pos1 and pos2 need to be +ve and within circular range\n",
    "    '''\n",
    "    delta = pos1 - pos2\n",
    "    if abs(delta) > 180:\n",
    "        delta = 360-abs(delta)\n",
    "    return abs(delta)\n",
    "\n",
    "\n",
    "t1=circular_absdiff(270,89)\n",
    "t2=circular_absdiff(89,270)\n",
    "t3=circular_absdiff(359,0)\n",
    "t4=circular_absdiff(0,359)\n",
    "print(t1,t2,t3,t4)\n",
    "\n",
    "\n",
    "def earthcoverage_given_orbittime(orbitTime, coverageRadiusInDegs=0):\n",
    "    iEarthMovementPerOrbitAtEquator = orbitTime * iEarthMovementPerSecAtEquatorDueToRotation\n",
    "    iEarthMovementPerOrbitAtEquatorInDegrees = iEarthMovementPerOrbitAtEquator / iEarthCircumferencePerDegree\n",
    "    iMaxNumOrbits = 4096\n",
    "    iStartPos = 0\n",
    "    iCurPos = iStartPos\n",
    "    iVisited = set()\n",
    "    iVisitedL = []\n",
    "    for i in range(iMaxNumOrbits*2):\n",
    "        #print(iCurPos)\n",
    "        iVisited.add(int(iCurPos))\n",
    "        iVisitedL.append(int(iCurPos))\n",
    "        # Move to opposite during orbit\n",
    "        iCurPos = iCurPos + 180 - (iEarthMovementPerOrbitAtEquatorInDegrees/2)\n",
    "        iCurPos = sane_pos(iCurPos)\n",
    "        if circular_absdiff(iStartPos, iCurPos) <= coverageRadiusInDegs:\n",
    "            iVisited.add(int(iCurPos))\n",
    "            iVisitedL.append(int(iCurPos))\n",
    "            dprint(\"Reached back to starting pos on %d th orbit\"%(i/2))\n",
    "            break\n",
    "    coverageMultiplier = 2*coverageRadiusInDegs\n",
    "    if coverageMultiplier == 0:\n",
    "        coverageMultiplier = 1\n",
    "    iPercentageCovered = (len(iVisited)/360)*coverageMultiplier*100\n",
    "    dprint(iVisited, True)\n",
    "    dprint(iVisitedL, True)\n",
    "    dprint(\"%d[/%d] unique orbits, covered %d %% of earth with FOVCvrageRadiusDegs of %g\"%(i/2, iMaxNumOrbits, iPercentageCovered, coverageRadiusInDegs), False)\n",
    "    return iPercentageCovered, i/2, iVisitedL\n",
    "\n",
    "\n",
    "lAlts = numpy.array([])\n",
    "lCvrd = numpy.array([])\n",
    "lUniqOrbits = numpy.array([])\n",
    "iFieldOfView=60\n",
    "for alt in range(400_000, 2_000_000, 50_000):\n",
    "    lAlts = numpy.append(lAlts, alt) # easy to infer\n",
    "    orbTime = orbittime_from_altitude(alt+iEarthRadius)\n",
    "    iFOVCoverageRadius = numpy.tan(((iFieldOfView/2)/360)*math.pi*2)*alt\n",
    "    iFOVCoverageRadiusInDegs = iFOVCoverageRadius / iEarthCircumferencePerDegree\n",
    "    cvrageP, uniqOrbits, lVisited = earthcoverage_given_orbittime(orbTime, iFOVCoverageRadiusInDegs)\n",
    "    lCvrd = numpy.append(lCvrd, cvrageP)\n",
    "    lUniqOrbits = numpy.append(lUniqOrbits, uniqOrbits)\n",
    "    print(\"Orbit: alt [%d] time [%d] FOVCvrgRadiusDegs [%g] cvrage%% [%g] with [%d] uniqOrbits\"%(alt, orbTime, iFOVCoverageRadiusInDegs, cvrageP, uniqOrbits))\n",
    "    #print(\"DBUG:\", lVisited)\n",
    "    if bCoverageGraphics:\n",
    "        y = numpy.zeros(len(lVisited))\n",
    "        plt.plot(lVisited, y, \"+\")\n",
    "        plt.show()\n",
    "\n",
    "\n",
    "plt.rcParams['figure.figsize'] = [8,4]\n",
    "plt.rcParams['figure.dpi'] = 120\n",
    "#plt.figure(figsize=(8,4), dpi=100)\n",
    "plt.subplots(1,2)\n",
    "plt.subplot(121)\n",
    "tCvrd = numpy.clip(lCvrd, 0, 100)\n",
    "plt.plot(lAlts/1000, tCvrd, \"+-\")\n",
    "plt.ylabel(\"Coverage%\")\n",
    "plt.xlabel(\"OrbitAlt[Km]\")\n",
    "\n",
    "plt.subplot(122)\n",
    "plt.plot(lAlts/1000, lUniqOrbits, \"+-\")\n",
    "plt.ylabel(\"UniqOrbitsB4Repeat\")\n",
    "plt.xlabel(\"OrbitAlt[Km]\")\n",
    "plt.show()\n",
    "\n",
    "\n",
    "bin(2**512-1)\n",
    "bin(1 << 6)"
   ]
  },
  {
   "cell_type": "markdown",
   "metadata": {},
   "source": [
    "## Return to Same point in Given time\n",
    "\n",
    "### Find Orbit Radius given a Orbit Time\n",
    "\n",
    "iOrbitTime = iOrbitCircumference/iOrbitVelocity\n",
    "\n",
    "iOrbitCircumference = iOrbitTime * iOrbitVelocity\n",
    "\n",
    "2 * Pi * iOrbitRadius = iOrbitTime * sqrt((iGravitationalConstant * iEarthMass)/iOrbitRadius)\n",
    "\n",
    "4 * Pi^2 * iOrbitRadius^2 = iOrbitTime^2 * (iGravitationalConstant * iEarthMass) / iOrbitRadius\n",
    "\n",
    "iOrbitRadius^3 = (iOrbitTime^2 * iGravitationalConst * iEarthMass) / (4 * Pi^2)"
   ]
  },
  {
   "cell_type": "code",
   "execution_count": null,
   "metadata": {},
   "outputs": [],
   "source": [
    "def orbitradius_giventime(orbitTime, theMainMass=iEarthMass, gravitationalConstant=iGravitationalConstant):\n",
    "    return numpy.cbrt((((orbitTime)**2)*gravitationalConstant*theMainMass)/(4*(numpy.pi**2)))\n",
    "\n",
    "orbitradius_giventime(iLeoOrbitTimeTaken)-iEarthRadius\n",
    "orbitradius_giventime(2*60*60)-iEarthRadius\n",
    "#orbitradius_giventime(1.41545*60*60)-iEarthRadius\n",
    "#1.41545*60"
   ]
  },
  {
   "cell_type": "markdown",
   "metadata": {},
   "source": [
    "## Eclipse due to earth"
   ]
  },
  {
   "cell_type": "code",
   "execution_count": null,
   "metadata": {
    "scrolled": true
   },
   "outputs": [],
   "source": [
    "## Show Earth and Satellite Orbit\n",
    "rads=numpy.linspace(0,numpy.pi*2,128)\n",
    "xE = numpy.sin(rads)*iEarthRadius\n",
    "yE = numpy.cos(rads)*iEarthRadius\n",
    "plt.plot(xE,yE,\"b\", label=\"Earth\")\n",
    "xS = numpy.sin(rads)*iLeoAltitudeFromEarthCenter\n",
    "yS = numpy.cos(rads)*iLeoAltitudeFromEarthCenter\n",
    "plt.plot(xS,yS,\"r.\", label=\"SatOrbit\")\n",
    "plt.plot([0,xS[24]],[0,yS[24]],\"g\")\n",
    "plt.plot([0,xS[-1-24]],[0,yS[-1-24]],\"g\")\n",
    "plt.plot([xS[24],xS[-1-24]], [yS[24],yS[-1-24]])\n",
    "#plt.plot([xS[-1-24],xS[-1-39]], [yS[-1-24],yS[-1-39]])\n",
    "plt.plot([-iEarthRadius, -iEarthRadius],[-iEarthRadius,iEarthRadius])\n",
    "plt.legend()\n",
    "plt.show()\n",
    "\n",
    "'''\n",
    "\n",
    "## EvenMoreCrudeMath: rough amount of time for which satellite will be eclipsed by earth in a orbit\n",
    "iHalfOfEarthToLeoCircumference = (0.5*iEarthCircumference)/iLeoCircumference\n",
    "iMaxEclipseTime = iHalfOfEarthToLeoCircumference * iLeoOrbitTimeTaken\n",
    "print(\"Satellite could be Eclipsed by Earth for a max of {} mins per Orbit\".format(iMaxEclipseTime/60))\n",
    "# Actual Eclipse time will be smaller than this, as light bends over (among others...)\n",
    "\n",
    "'''\n",
    "\n",
    "## Blind, based on simple direct EarthDia\n",
    "iMinEclipseTime = (((iEarthRadius*2)/iLeoCircumference)*iLeoOrbitTimeTaken)\n",
    "#print(\"EarthDia:\", iEarthRadius*2)\n",
    "#print(\"LeoCircumference:\", iLeoCircumference)\n",
    "print(\"Satellite could be Eclipsed by Earth for a minimum of around {} mins per Orbit\".format(iMinEclipseTime/60))\n",
    "\n",
    "## Bit better based on circle segment\n",
    "halfAngle = math.asin(iEarthRadius/iLeoAltitudeFromEarthCenter)\n",
    "#iEclipsedCircumference = (2*halfAngle) * iLeoAltitudeFromEarthCenter\n",
    "iEclipsedCircumference = ((2*halfAngle)/(2*numpy.pi)) * iLeoCircumference\n",
    "iEclipseTime = ((iEclipsedCircumference/iLeoCircumference)*iLeoOrbitTimeTaken)\n",
    "print(\"Satellite could be Eclipsed by Earth for around {} mins per Orbit\".format(iEclipseTime/60))\n"
   ]
  },
  {
   "cell_type": "markdown",
   "metadata": {},
   "source": [
    "## Util functions"
   ]
  },
  {
   "cell_type": "code",
   "execution_count": null,
   "metadata": {},
   "outputs": [],
   "source": [
    "# dB wrt milliwatt normally\n",
    "def to_dBm(inWatts):\n",
    "    return 10 * math.log10(inWatts/0.001)\n",
    "\n",
    "# dB wrt isotropic antenna\n",
    "def to_dBi(inPower):\n",
    "    return 10 * math.log10(inPower/1)\n",
    "\n",
    "iLightSpeed = 300_000_000 # meters / sec\n",
    "\n",
    "def wavelen2freq(waveLen):\n",
    "    return iLightSpeed/waveLen\n",
    "\n",
    "def freq2wavelen(freq):\n",
    "    return iLightSpeed/freq\n"
   ]
  },
  {
   "cell_type": "markdown",
   "metadata": {},
   "source": [
    "## RF Comm\n",
    "\n",
    "### RF Frequencies\n",
    "\n",
    "AmSats normally use the following bands\n",
    "\n",
    "* In V band = 145.8 - 146 MHz\n",
    "* In U band = 435 - 438 MHz\n",
    "\n",
    "The V band will be more crowded compared to U band.\n",
    "\n",
    "At same time V band has\n",
    "\n",
    "* less doppler effect (and so the related freq drift)\n",
    "* lesser rf path losses\n",
    "\n",
    "compared to the higher frequency U band.\n",
    "\n",
    "\n",
    "### RF Losses"
   ]
  },
  {
   "cell_type": "code",
   "execution_count": null,
   "metadata": {},
   "outputs": [],
   "source": [
    "# Using Friis transmission formula\n",
    "# Pr = Pt * Dt * Dr * (Lambda/4*Pi*D)^2\n",
    "# Pr_dBm = Pt_dBm + Dt_dBi + Dr_dBi + 10*log10((Lambda/4*Pi*D)^2)\n",
    "# Pr_dBm = Pt_dBm + Dt_dBi + Dr_dBi + 20*log10(Lambda/4*Pi*D)\n",
    "# Pr_dBm = Pt_dBm + Dt_dBi + Dr_dBi + 20*log10(Lambda) - 20*log10(D) - 20*log10(1/4*Pi)\n",
    "#\n",
    "powerTransmitter = 0.5 # Watts; this is what is normal for LEO AmSats\n",
    "powerTransmitterDBm = to_dBm(powerTransmitter)\n",
    "print(\"TransmitPower(dBm):\", powerTransmitterDBm)\n",
    "directivityTransmitter = 1\n",
    "directivityTransmitterDBi = to_dBi(directivityTransmitter)\n",
    "directivityReciever = 1 # Change based on antenne system used\n",
    "directivityRecieverDBi = to_dBi(directivityReciever)\n",
    "frequencies = numpy.array([145_800_000, 435_000_000, 900_000_000, 2_400_000_000 ])\n",
    "print(\"Frequencies:\", frequencies)\n",
    "distances = numpy.array([[500_000],[1_000_000]])\n",
    "\n",
    "\n",
    "# This doesnt consider any losses through_the/due_to medium of propagation, nor multipath, nor ...\n",
    "# However as the path loss is the major factor given the distances involved, its used to get a rough feel\n",
    "def freespace_pathloss(Pt_dBm, Dt_dBi, Dr_dBi, frequencies, distances):\n",
    "    Pr_dBm = Pt_dBm + Dt_dBi + Dr_dBi + 20*numpy.log10(iLightSpeed/(4*numpy.pi*distances*frequencies))\n",
    "    return Pr_dBm\n",
    "\n",
    "\n",
    "powerRecieverDBm = freespace_pathloss(powerTransmitterDBm, directivityTransmitterDBi, directivityRecieverDBi,\n",
    "                                       frequencies, distances)\n",
    "print(\"PowerAtReciever_Rough(dBm):\\n\",powerRecieverDBm)\n",
    "plt.plot(frequencies, numpy.atleast_2d(powerRecieverDBm).T,\"+-\")\n",
    "plt.legend([\"500Km\", \"1000Km\"])\n",
    "plt.xlabel(\"Freqs\")\n",
    "plt.ylabel(\"RecieverDBm\")\n",
    "plt.show()"
   ]
  },
  {
   "cell_type": "markdown",
   "metadata": {},
   "source": [
    "### Doppler effect"
   ]
  },
  {
   "cell_type": "code",
   "execution_count": null,
   "metadata": {
    "scrolled": true
   },
   "outputs": [],
   "source": [
    "commFreqs = numpy.array([145_800_000, 436_000_000])\n",
    "dopShifts = commFreqs*(iLeoVelocity/iLightSpeed)\n",
    "print(\"DopplerShifts[in Hz] for {} is {}\".format(commFreqs, dopShifts))\n",
    "dopShifts = frequencies*(iLeoVelocity/iLightSpeed)\n",
    "plt.plot(frequencies, dopShifts, \"+-\")\n",
    "plt.xlabel(\"Freqs\")\n",
    "plt.ylabel(\"Drift(Hz)\")\n",
    "plt.show()"
   ]
  },
  {
   "cell_type": "markdown",
   "metadata": {},
   "source": [
    "### Data comm\n",
    "\n",
    "In turn use a simple mechanism to transmit the sensor data like\n",
    "\n",
    "a) Simple Analog frequency modulation: Different frequencies for different values\n",
    "\n",
    "b) Analog frequency modulated tones for different decimal digits from 0 to 9, maybe each 200 Hz appart.\n",
    "\n",
    "c) Binary Digital Keying: Presence or absence of Frequency or Toggle btw 2 different sets of frequencies indicate between 0 and 1."
   ]
  },
  {
   "cell_type": "markdown",
   "metadata": {},
   "source": [
    "## Misc\n",
    "\n",
    "#### FootNotes\n",
    "\n",
    "Will reside somewhere at https://github.com/hanishkvc"
   ]
  }
 ],
 "metadata": {
  "kernelspec": {
   "display_name": "Python 3",
   "language": "python",
   "name": "python3"
  },
  "language_info": {
   "codemirror_mode": {
    "name": "ipython",
    "version": 3
   },
   "file_extension": ".py",
   "mimetype": "text/x-python",
   "name": "python",
   "nbconvert_exporter": "python",
   "pygments_lexer": "ipython3",
   "version": "3.8.5"
  }
 },
 "nbformat": 4,
 "nbformat_minor": 4
}
