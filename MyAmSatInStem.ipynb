{
 "cells": [
  {
   "cell_type": "markdown",
   "metadata": {},
   "source": [
    "# AmSat to kindle STEM in India"
   ]
  },
  {
   "cell_type": "markdown",
   "metadata": {},
   "source": [
    "## Overview\n",
    "\n",
    "We need a LEO Polar Sun Sync orbit AmSat with FM repeater and few sensors data monitor.\n",
    "Which inturn can be tracked and listened to by students at heart by using either a suitable FM receiver\n",
    "or better still a SDR reciever.\n",
    "\n",
    "### Digital data comm\n",
    "\n",
    "In turn use a simple mechanism to transmit the sensor data like\n",
    "\n",
    "a) Simple Analog frequency modulation: Different frequencies for different values\n",
    "\n",
    "b) Analog frequency modulated tones for different decimal digits from 0 to 9, maybe each 200 Hz appart.\n",
    "\n",
    "b) Binary Digital Keying: Presence or absence of Frequency or Toggle btw 2 different sets of frequencies indicate between 0 and 1. \n",
    "\n",
    "### Orbit\n",
    "\n",
    "The Polar orbit should allow the satellite to cover all parts of the earth.\n",
    "\n",
    "If a orbit altitude is reached such that the velocity achieved can ensure that N (1 or more) full orbits can be finished in time T, such that T is 24 hours or its multiples, then the satellite will retrace the same path at the same relative time once every T hours i.e T/24 days. NOTE: Not sure if the LEO orbits is sufficiently stable enough over a long period of atleast few weeks, so that it can be used to have a simple tracking wrt the satellite for that period.\n",
    "\n",
    "If a sun synchronous orbit is achived or maintained, then depending on the angle wrt earth-sun orbital plane,\n",
    "\n",
    "* if it is 90 degrees, then the satellite could be placed always in day light, so that solar power is always available. However one needs to verify if the temperature of the satellite parts can be maintained well within reasonable operating range, in this case. Is the attitude maintaining rotation good enough or not or conductive heat distribution pipes/paths good enough or ...\n",
    "\n",
    "* if it is 0 degrees, then the satellite would be always at around roughly mid day or mid night wrt the places on earth, depending on which side of the earth wrt sun, that place is.\n",
    "\n",
    "The satellite may pass over a given ground location between 0 to 2 times under normal conditions for a polar sun synchronous orbit. Ideally this would be twice if the satellite (and its RF system) covers all parts of the earth fully in a day.\n"
   ]
  },
  {
   "cell_type": "markdown",
   "metadata": {},
   "source": [
    "## NOTE\n",
    "\n",
    "Below are few simple minded calculations to get a very very rough initial idea of few things\n"
   ]
  },
  {
   "cell_type": "code",
   "execution_count": 3,
   "metadata": {},
   "outputs": [],
   "source": [
    "import math\n",
    "import numpy"
   ]
  },
  {
   "cell_type": "markdown",
   "metadata": {},
   "source": [
    "## Earth"
   ]
  },
  {
   "cell_type": "code",
   "execution_count": 4,
   "metadata": {},
   "outputs": [
    {
     "name": "stdout",
     "output_type": "stream",
     "text": [
      "EarthCircumference: 40212385.96594935\n"
     ]
    }
   ],
   "source": [
    "# Gravitational Constant (m^3 / (kg * s^2))\n",
    "iGravitationalConstant = (6.674 / 10**11)\n",
    "\n",
    "# Earth Radius (m)\n",
    "iEarthRadius = 6_400_000\n",
    "\n",
    "# Earth Mass (kg)\n",
    "iEarthMass = 5.972 * 10**24\n",
    "\n",
    "# Earth Circumference\n",
    "iEarthCircumference = 2 * math.pi * iEarthRadius\n",
    "print(\"EarthCircumference:\", iEarthCircumference)\n"
   ]
  },
  {
   "cell_type": "markdown",
   "metadata": {},
   "source": [
    "## LEO"
   ]
  },
  {
   "cell_type": "code",
   "execution_count": 5,
   "metadata": {},
   "outputs": [
    {
     "name": "stdout",
     "output_type": "stream",
     "text": [
      "LEO orbit altitude wrt Earth Center: 6900000\n",
      "LEO Velocity: 7600.260102337841\n",
      "LeoCircumference: 43353978.61953914\n",
      "LeoOrbitTimeTaken(mins): 95.0712607984812\n",
      "NumOfSiteings in a Day: 15.146533115326104\n"
     ]
    },
    {
     "data": {
      "text/plain": [
       "103.36593937566968"
      ]
     },
     "execution_count": 5,
     "metadata": {},
     "output_type": "execute_result"
    }
   ],
   "source": [
    "## LowEarthOrbit\n",
    "\n",
    "iLeoAltitudeAboveGround = 500_000\n",
    "iLeoAltitudeFromEarthCenter = iEarthRadius + iLeoAltitudeAboveGround\n",
    "print(\"LEO orbit altitude wrt Earth Center:\", iLeoAltitudeFromEarthCenter)\n",
    "\n",
    "# LEO Velocity\n",
    "#F = (GMm)/(r^2) = ma = m(v^2/r) => GM = r(v^2)\n",
    "iLeoVelocity = math.sqrt((iGravitationalConstant * iEarthMass)/iLeoAltitudeFromEarthCenter)\n",
    "print(\"LEO Velocity:\", iLeoVelocity)\n",
    "\n",
    "# Circumference of the orbit\n",
    "iLeoCircumference = 2 * math.pi * iLeoAltitudeFromEarthCenter\n",
    "print(\"LeoCircumference:\", iLeoCircumference)\n",
    "\n",
    "# Time taken for a single orbit\n",
    "iLeoOrbitTimeTaken = iLeoCircumference/iLeoVelocity\n",
    "print(\"LeoOrbitTimeTaken(mins):\", iLeoOrbitTimeTaken/60)\n",
    "\n",
    "# Num of Siteings in a day\n",
    "iDayInSecs = 24*60*60\n",
    "iNumOfSiteingsInADay = iDayInSecs/iLeoOrbitTimeTaken\n",
    "print(\"NumOfSiteings in a Day:\", iNumOfSiteingsInADay)\n",
    "iDayInSecs/(iDayInSecs%iLeoOrbitTimeTaken)\n",
    "#0.146*103\n"
   ]
  },
  {
   "cell_type": "markdown",
   "metadata": {},
   "source": [
    "## Earth coverage"
   ]
  },
  {
   "cell_type": "code",
   "execution_count": 8,
   "metadata": {},
   "outputs": [
    {
     "name": "stdout",
     "output_type": "stream",
     "text": [
      "EarthCoverageRadius[@60]:[  115470.05383793   288675.13459481   577350.26918963 20784609.69082653]\n",
      "Minimum number of orbits required to cover earths equatorial circumference fully: [87.06236948 34.82494779 17.4124739   0.48367983]\n"
     ]
    }
   ],
   "source": [
    "# Earth Coverage and Altitude\n",
    "\n",
    "# Sin(Angle) = OppositeSide/Hypotinus\n",
    "# Cos(Angle) = AdjacentSide/Hypotinus\n",
    "# Tan(Angle) = Opposite/Adjacent\n",
    "# Opposite = Tan(Angle) * Adjacent\n",
    "# AdjacentSide = Altitude from surface\n",
    "# Angle = FieldOfView\n",
    "iSatAltitude = numpy.array([200_000, 500_000, 1_000_000, 36_000_000])\n",
    "iFieldOfView = 106 # Adjusted to sync NumOfSiteings with EarthCircumference given EarthCoverage Radius @500KM\n",
    "iFieldOfView = 60\n",
    "iEarthCoverageRadius = numpy.tan(((iFieldOfView/2)/360)*math.pi*2)*iSatAltitude\n",
    "print(\"EarthCoverageRadius[@{}]:{}\".format(iFieldOfView, iEarthCoverageRadius))\n",
    "math.atan(iEarthRadius/(iEarthRadius+36_000_000)) * (360/(math.pi*2))\n",
    "math.atan(iEarthRadius/(iEarthRadius+500_000)) * (360/(math.pi*2))\n",
    "\n",
    "# Minimum number of orbits to cover the earths equatorial circumference\n",
    "iMinNumOfOrbits4Equator=iEarthCircumference/(iEarthCoverageRadius*2*2)\n",
    "print(\"Minimum number of orbits required to cover earths equatorial circumference fully:\", iMinNumOfOrbits4Equator)"
   ]
  },
  {
   "cell_type": "markdown",
   "metadata": {},
   "source": [
    "## Return to Same point in Given time\n",
    "\n",
    "### Find Orbit Radius given a Orbit Time\n",
    "\n",
    "iOrbitTime = iOrbitCircumference/iOrbitVelocity\n",
    "\n",
    "iOrbitCircumference = iOrbitTime * iOrbitVelocity\n",
    "\n",
    "2 * Pi * iOrbitRadius = iOrbitTime * sqrt((iGravitationalConstant * iEarthMass)/iOrbitRadius)\n",
    "\n",
    "4 * Pi^2 * iOrbitRadius^2 = iOrbitTime^2 * (iGravitationalConstant * iEarthMass) / iOrbitRadius\n",
    "\n",
    "iOrbitRadius^3 = (iOrbitTime^2 * iGravitationalConst * iEarthMass) / (4 * Pi^2)"
   ]
  },
  {
   "cell_type": "code",
   "execution_count": null,
   "metadata": {},
   "outputs": [],
   "source": []
  },
  {
   "cell_type": "markdown",
   "metadata": {},
   "source": [
    "## Eclipse due to earth"
   ]
  },
  {
   "cell_type": "code",
   "execution_count": 7,
   "metadata": {
    "scrolled": true
   },
   "outputs": [
    {
     "name": "stdout",
     "output_type": "stream",
     "text": [
      "Satellite could be Eclipsed by Earth for a max of 44.091019500744906 mins per Orbit\n"
     ]
    }
   ],
   "source": [
    "# EvenMoreCrudeMath: rough amount of time for which satellite will be eclipsed by earth in a orbit\n",
    "iHalfOfEarthToLeoCircumference = (0.5*iEarthCircumference)/iLeoCircumference\n",
    "iMaxEclipseTime = iHalfOfEarthToLeoCircumference * iLeoOrbitTimeTaken\n",
    "print(\"Satellite could be Eclipsed by Earth for a max of {} mins per Orbit\".format(iMaxEclipseTime/60))\n",
    "# Actual Eclipse time will be smaller than this, as light bends over (among others...)"
   ]
  },
  {
   "cell_type": "markdown",
   "metadata": {},
   "source": [
    "## Util functions"
   ]
  },
  {
   "cell_type": "code",
   "execution_count": 33,
   "metadata": {},
   "outputs": [],
   "source": [
    "# dB wrt milliwatt normally\n",
    "def to_dBm(inWatts):\n",
    "    return 10 * math.log10(inWatts/0.001)\n",
    "\n",
    "# dB wrt isotropic antenna\n",
    "def to_dBi(inPower):\n",
    "    return 10 * math.log10(inPower/1)\n",
    "\n",
    "iLightSpeed = 300_000_000 # meters / sec\n",
    "\n",
    "def wavelen2freq(waveLen):\n",
    "    return iLightSpeed/waveLen\n",
    "\n",
    "def freq2wavelen(freq):\n",
    "    return iLightSpeed/freq\n"
   ]
  },
  {
   "cell_type": "markdown",
   "metadata": {},
   "source": [
    "## RF Losses"
   ]
  },
  {
   "cell_type": "code",
   "execution_count": 40,
   "metadata": {},
   "outputs": [
    {
     "name": "stdout",
     "output_type": "stream",
     "text": [
      "TransmitPower(dBm): 26.989700043360187\n",
      "Frequencies: [ 145800000  435000000  900000000 2400000000]\n",
      "PowerAtReciever_Rough(dBm):\n",
      " [[-102.70662271 -112.20125737 -118.51632242 -127.03569706]\n",
      " [-108.72722262 -118.22185728 -124.53692233 -133.05629698]]\n"
     ]
    }
   ],
   "source": [
    "# Using Friis transmission formula\n",
    "# Pr = Pt * Dt * Dr * (Lambda/4*Pi*D)^2\n",
    "# Pr_dBm = Pt_dBm + Dt_dBi + Dr_dBi + 10*log10((Lambda/4*Pi*D)^2)\n",
    "# Pr_dBm = Pt_dBm + Dt_dBi + Dr_dBi + 20*log10(Lambda/4*Pi*D)\n",
    "# Pr_dBm = Pt_dBm + Dt_dBi + Dr_dBi + 20*log10(Lambda) - 20*log10(D) - 20*log10(1/4*Pi)\n",
    "#\n",
    "powerTransmitter = 0.5 # Watts; this is what is normal for LEO AmSats\n",
    "powerTransmitterDBm = to_dBm(powerTransmitter)\n",
    "print(\"TransmitPower(dBm):\", powerTransmitterDBm)\n",
    "directivityTransmitter = 1\n",
    "directivityTransmitterDBi = to_dBi(directivityTransmitter)\n",
    "directivityReciever = 1 # Change based on antenne system used\n",
    "directivityRecieverDBi = to_dBi(directivityReciever)\n",
    "frequencies = numpy.array([145_800_000, 435_000_000, 900_000_000, 2_400_000_000 ])\n",
    "print(\"Frequencies:\", frequencies)\n",
    "distances = numpy.array([[500_000],[1_000_000]])\n",
    "\n",
    "\n",
    "# This doesnt consider any losses through_the/due_to medium of propagation, nor multipath, nor ...\n",
    "# However as the path loss is the major factor given the distances involved, its used to get a rough feel\n",
    "def freespace_pathloss(Pt_dBm, Dt_dBi, Dr_dBi, frequencies, distances):\n",
    "    Pr_dBm = Pt_dBm + Dt_dBi + Dr_dBi + 20*numpy.log10(iLightSpeed/(4*numpy.pi*distances*frequencies))\n",
    "    return Pr_dBm\n",
    "\n",
    "\n",
    "powerRecieverDBm = freespace_pathloss(powerTransmitterDBm, directivityTransmitterDBi, directivityRecieverDBi,\n",
    "                                       frequencies, distances)\n",
    "print(\"PowerAtReciever_Rough(dBm):\\n\",powerRecieverDBm)"
   ]
  },
  {
   "cell_type": "markdown",
   "metadata": {},
   "source": [
    "## ToDo\n",
    "Doppler effect\n"
   ]
  }
 ],
 "metadata": {
  "kernelspec": {
   "display_name": "Python 3",
   "language": "python",
   "name": "python3"
  },
  "language_info": {
   "codemirror_mode": {
    "name": "ipython",
    "version": 3
   },
   "file_extension": ".py",
   "mimetype": "text/x-python",
   "name": "python",
   "nbconvert_exporter": "python",
   "pygments_lexer": "ipython3",
   "version": "3.8.5"
  }
 },
 "nbformat": 4,
 "nbformat_minor": 4
}
